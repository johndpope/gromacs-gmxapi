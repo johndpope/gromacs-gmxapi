{
 "cells": [
  {
   "cell_type": "markdown",
   "metadata": {},
   "source": [
    "# Functional goals for 2019 Q2\n",
    "\n",
    "This notebook allows interactive exploration of the functionality targeted for the GROMACS master branch in 2019 Q2. Note that there isn't a great way to use a Jupyter notebook as the front-end to an MPI job. The notebook can be converted to a script and run non-interactively.\n",
    "\n",
    "    jupyter nbconvert RequiredFunctionality.ipynb --to python\n",
    "    python RequiredFunctionality.py\n",
    "    # or\n",
    "    # mpiexec -n 2 python -m mpi4py RequiredFunctionality.py\n",
    "\n",
    "Before committing changes to this notebook, clear the output and/or run `python strip_notebook.py RequiredFunctionality.py`"
   ]
  },
  {
   "cell_type": "code",
   "execution_count": null,
   "metadata": {},
   "outputs": [],
   "source": [
    "# Prepare notebook environment.\n",
    "import gmxapi as gmx"
   ]
  },
  {
   "cell_type": "markdown",
   "metadata": {},
   "source": [
    "## Tests"
   ]
  },
  {
   "cell_type": "markdown",
   "metadata": {},
   "source": [
    "gmx.make_operation wraps importable Python code."
   ]
  },
  {
   "cell_type": "code",
   "execution_count": null,
   "metadata": {},
   "outputs": [],
   "source": [
    "# make_operation is a utility used to create the `noop` module attribute\n",
    "# in the importable `test_support` module that copies its `data` input to its output.\n",
    "from test_support import noop\n",
    "op = noop(input={'data': True})\n",
    "assert op.output.data.extract() == True\n",
    "op = noop(input={'data': False})\n",
    "assert op.output.data.extract() == False"
   ]
  },
  {
   "cell_type": "markdown",
   "metadata": {},
   "source": [
    "gmx.make_operation produces output proxy that establishes execution dependency"
   ]
  },
  {
   "cell_type": "code",
   "execution_count": null,
   "metadata": {},
   "outputs": [],
   "source": [
    "# the `count` operation copies its `data` input to its output\n",
    "# and increments its `count` input to its output.\n",
    "from test_support import count\n",
    "op1 = count(input={'data': True})\n",
    "op2 = count(input=op1.output)\n",
    "op2.run()\n",
    "# TBD: how to introspect execution dependency or not-yet-executed status?\n",
    "# To allow introspection in testing, we might use module global data for operations executed in the local process."
   ]
  },
  {
   "cell_type": "markdown",
   "metadata": {},
   "source": [
    "gmx.make_operation produces output proxy that can be used as input"
   ]
  },
  {
   "cell_type": "code",
   "execution_count": null,
   "metadata": {},
   "outputs": [],
   "source": [
    "op1 = count(input={'data': False, 'count': 0})\n",
    "op2 = count(input=op1.output)\n",
    "assert op2.output.count.extract() == 2"
   ]
  },
  {
   "cell_type": "markdown",
   "metadata": {},
   "source": [
    "gmx.make_operation uses dimensionality and typing of named data to generate correct work topologies"
   ]
  },
  {
   "cell_type": "markdown",
   "metadata": {},
   "source": [
    "gmx.gather allows explicit many-to-one or many-to-many data flow"
   ]
  },
  {
   "cell_type": "markdown",
   "metadata": {},
   "source": [
    "gmx.reduce helper simplifies expression of operations dependent on gather"
   ]
  },
  {
   "cell_type": "markdown",
   "metadata": {},
   "source": [
    "gmx.commandline_operation provides utility for wrapping command line tools"
   ]
  },
  {
   "cell_type": "markdown",
   "metadata": {},
   "source": [
    "gmx.commandline_operation produces operations that can be executed in a dependency graph"
   ]
  },
  {
   "cell_type": "markdown",
   "metadata": {},
   "source": [
    "gmx.mdrun uses bindings to C++ API to launch simulations"
   ]
  },
  {
   "cell_type": "markdown",
   "metadata": {},
   "source": [
    "gmx.mdrun understands ensemble work"
   ]
  },
  {
   "cell_type": "markdown",
   "metadata": {},
   "source": [
    "*gmx.mdrun supports interface for binding MD plugins*\n",
    "(requires interaction with library development)"
   ]
  },
  {
   "cell_type": "code",
   "execution_count": null,
   "metadata": {},
   "outputs": [],
   "source": [
    "import sample_restraint\n",
    "\n",
    "starting_structure = 'input_conf.gro'\n",
    "topology_file = 'input.top'\n",
    "run_parameters = 'params.mdp'\n",
    "\n",
    "initial_tpr = gmx.commandline_operation(\n",
    "    'gmx',\n",
    "    'grompp',\n",
    "    input={\n",
    "        '-f': run_parameters,\n",
    "        '-c': starting_structure,\n",
    "        '-p': topology_file\n",
    "    },\n",
    "    output={'-o': gmx.OutputFile('.tpr')})\n",
    "\n",
    "simulation_input = gmx.read_tpr(initial_tpr.output.file['-o'])\n",
    "\n",
    "# Prepare a simple harmonic restraint between atoms 1 and 4\n",
    "restraint_params = {'sites': [1, 4],\n",
    "                    'R0': 2.0,\n",
    "                    'k': 10000.0}\n",
    "\n",
    "restraint = sample_restraint.harmonic_restraint(input=restraint_params)\n",
    "\n",
    "md = gmx.mdrun(input=simulation_input, potential=sample_restraint)\n",
    "\n",
    "md.run()"
   ]
  },
  {
   "cell_type": "markdown",
   "metadata": {},
   "source": [
    "gmx.subgraph fuses operations"
   ]
  },
  {
   "cell_type": "markdown",
   "metadata": {},
   "source": [
    "gmx.while creates an operation wrapping a dynamic number of iterations of a subgraph"
   ]
  },
  {
   "cell_type": "markdown",
   "metadata": {},
   "source": [
    "gmx.logical_* operations allow optimizable manipulation of boolean values"
   ]
  },
  {
   "cell_type": "markdown",
   "metadata": {},
   "source": [
    "gmx.read_tpr utility provides access to TPR file contents"
   ]
  },
  {
   "cell_type": "markdown",
   "metadata": {},
   "source": [
    "gmx.read_tpr operation produces output consumable by gmx.mdrun"
   ]
  },
  {
   "cell_type": "markdown",
   "metadata": {},
   "source": [
    "gmx.mdrun produces gromacs.read_tpr node for tpr filename kwargs"
   ]
  },
  {
   "cell_type": "markdown",
   "metadata": {},
   "source": [
    "gmx.mdrun is properly restartable"
   ]
  },
  {
   "cell_type": "markdown",
   "metadata": {},
   "source": [
    "gmx.run finds and runs operations to produce expected output files"
   ]
  },
  {
   "cell_type": "markdown",
   "metadata": {},
   "source": [
    "gmx.run handles ensemble work topologies"
   ]
  },
  {
   "cell_type": "markdown",
   "metadata": {},
   "source": [
    "gmx.run handles multi-process execution"
   ]
  },
  {
   "cell_type": "markdown",
   "metadata": {},
   "source": [
    "gmx.run safety checks to avoid data loss / corruption"
   ]
  },
  {
   "cell_type": "markdown",
   "metadata": {},
   "source": [
    "*gmx.run conveys run-time parameters to execution context*\n",
    "(requires interaction with library development)"
   ]
  },
  {
   "cell_type": "code",
   "execution_count": null,
   "metadata": {},
   "outputs": [],
   "source": [
    "gmx.run(work, tmpi=20, grid=gmx.NDArray([3, 3, 2]), ntomp_pme=1, npme=2, ntomp=1)"
   ]
  },
  {
   "cell_type": "markdown",
   "metadata": {},
   "source": [
    "*gmx.modify_input produces new (tpr) simulation input in data flow operation*\n",
    "(requires interaction with library development)"
   ]
  },
  {
   "cell_type": "code",
   "execution_count": null,
   "metadata": {},
   "outputs": [],
   "source": [
    "initial_input = gmx.read_tpr([tpr_filename for _ in range(10)])\n",
    "tau_t = list([i/10. for i in range(10)])\n",
    "param_sweep = gmx.modify_input(input=initial_input,\n",
    "                               parameters={ \n",
    "                                   'tau_t': tau_t\n",
    "                               }\n",
    "                              )\n",
    "md = gmx.mdrun(param_sweep)\n",
    "for tau_expected, tau_actual in zip(tau_t, md.output.params['tau_t'].extract()):\n",
    "    assert tau_expected == tau_actual"
   ]
  },
  {
   "cell_type": "markdown",
   "metadata": {},
   "source": [
    "gmx.make_input dispatches appropriate preprocessing for file or in-memory simulation input."
   ]
  },
  {
   "cell_type": "markdown",
   "metadata": {},
   "source": [
    "*gmx.make_input handles state from checkpoints*\n",
    "(requires interaction with library development)"
   ]
  },
  {
   "cell_type": "code",
   "execution_count": null,
   "metadata": {},
   "outputs": [],
   "source": [
    "initial_input = gmx.read_tpr(tpr_filename)\n",
    "md = gmx.mdrun(initial_input)\n",
    "stage2_input = gmx.make_input(topology=initial_input,\n",
    "                              conformation=md.output,\n",
    "                              parameters=stage2_params,\n",
    "                              simulation_state=md.output)\n",
    "md = gmx.mdrun(stage2_input)\n",
    "md.run()"
   ]
  },
  {
   "cell_type": "markdown",
   "metadata": {},
   "source": [
    "gmx.write_tpr (a facility used to implement higher-level functionality) merges tpr data (e.g. inputrec, structure, topology) into new file(s)"
   ]
  },
  {
   "cell_type": "code",
   "execution_count": null,
   "metadata": {},
   "outputs": [],
   "source": [
    "gmx.fileio.write_tpr(filename=managed_filename, input=stage2_input)"
   ]
  },
  {
   "cell_type": "markdown",
   "metadata": {},
   "source": [
    "gmx.tool provides wrapping of unmigrated gmx CLI tools"
   ]
  },
  {
   "cell_type": "markdown",
   "metadata": {},
   "source": [
    "gmx.tool uses Python bindings on C++ API for CLI modules"
   ]
  },
  {
   "cell_type": "markdown",
   "metadata": {},
   "source": [
    "*gmx.tool operations are migrated to updated Options infrastructure*\n",
    "(requires interaction with library development)"
   ]
  },
  {
   "cell_type": "code",
   "execution_count": null,
   "metadata": {},
   "outputs": [],
   "source": [
    "analysis = gmx.rmsf(trajectory=md.output.trajectory,\n",
    "                    topology=initial_input,\n",
    "                   )\n",
    "file_list = analysis.output.rmsf.extract(filetype='xvg')"
   ]
  },
  {
   "cell_type": "markdown",
   "metadata": {},
   "source": [
    "gmx.context manages data placement according to where operations run"
   ]
  },
  {
   "cell_type": "markdown",
   "metadata": {},
   "source": [
    "*gmx.context negotiates allocation of 1 node per operation with shared comm*\n",
    "(requires interaction with library development)"
   ]
  },
  {
   "cell_type": "code",
   "execution_count": null,
   "metadata": {},
   "outputs": [],
   "source": [
    "from mpi4py import MPI\n",
    "comm_world = MPI.COMM_WORLD\n",
    "\n",
    "group2 = comm_world.Get_group().Incl([0,1])\n",
    "ensemble_comm = comm_world.Create_group(group2)\n",
    "\n",
    "md = gmx.mdrun([tpr_filename for _ in range(2)])\n",
    "\n",
    "with gmx.get_context(md, communicator=ensemble_comm) as session:\n",
    "    session.run()\n",
    "\n",
    "ensemble_comm.Free()"
   ]
  },
  {
   "cell_type": "markdown",
   "metadata": {},
   "source": [
    "gmx.context negotiates an integer number of nodes per operation"
   ]
  },
  {
   "cell_type": "markdown",
   "metadata": {},
   "source": [
    "*gmx.context negotiates allocation of resources for scheduled work*\n",
    "(requires interaction with library development)"
   ]
  },
  {
   "cell_type": "code",
   "execution_count": null,
   "metadata": {},
   "outputs": [],
   "source": [
    "from mpi4py import MPI\n",
    "comm_world = MPI.COMM_WORLD\n",
    "\n",
    "md = gmx.mdrun([tpr_filename for _ in range(2)])\n",
    "\n",
    "with gmx.get_context(md, communicator=comm_world) as session:\n",
    "        session.run()\n",
    "\n",
    "md = gmx.mdrun([tpr_filename for _ in range(4)])\n",
    "\n",
    "\n",
    "with gmx.get_context(md, communicator=comm_world) as session:\n",
    "        session.run()"
   ]
  },
  {
   "cell_type": "code",
   "execution_count": null,
   "metadata": {},
   "outputs": [],
   "source": []
  }
 ],
 "metadata": {
  "kernelspec": {
   "display_name": "Python 3",
   "language": "python",
   "name": "python3"
  },
  "language_info": {
   "codemirror_mode": {
    "name": "ipython",
    "version": 3
   },
   "file_extension": ".py",
   "mimetype": "text/x-python",
   "name": "python",
   "nbconvert_exporter": "python",
   "pygments_lexer": "ipython3",
   "version": "3.7.1"
  }
 },
 "nbformat": 4,
 "nbformat_minor": 2
}